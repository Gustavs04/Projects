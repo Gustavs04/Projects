{
  "nbformat": 4,
  "nbformat_minor": 0,
  "metadata": {
    "colab": {
      "provenance": [],
      "authorship_tag": "ABX9TyMFO72sJHP5VBkMT4x+QoC7",
      "include_colab_link": true
    },
    "kernelspec": {
      "name": "python3",
      "display_name": "Python 3"
    },
    "language_info": {
      "name": "python"
    }
  },
  "cells": [
    {
      "cell_type": "markdown",
      "metadata": {
        "id": "view-in-github",
        "colab_type": "text"
      },
      "source": [
        "<a href=\"https://colab.research.google.com/github/Gustavs04/Projects/blob/main/Algorithms_and_Data_Structures.ipynb\" target=\"_parent\"><img src=\"https://colab.research.google.com/assets/colab-badge.svg\" alt=\"Open In Colab\"/></a>"
      ]
    },
    {
      "cell_type": "markdown",
      "source": [
        "# Linear search"
      ],
      "metadata": {
        "id": "qRWZIxPXxMDp"
      }
    },
    {
      "cell_type": "code",
      "execution_count": null,
      "metadata": {
        "colab": {
          "base_uri": "https://localhost:8080/"
        },
        "id": "cPy-B3QZxDeN",
        "outputId": "437d6210-2776-425b-9ba6-d8ecc57d5a8c"
      },
      "outputs": [
        {
          "output_type": "stream",
          "name": "stdout",
          "text": [
            "Target not found in list\n",
            "Target found at index:  5\n"
          ]
        }
      ],
      "source": [
        "def linear_search(list, target):\n",
        "  # Returns the index position it found, else returns None\n",
        "  for i in range(0, len(list)):\n",
        "    if list[i] == target:\n",
        "      return i\n",
        "  return None\n",
        "\n",
        "def verify(index):\n",
        "  if index is not None:\n",
        "    print(\"Target found at index: \", index)\n",
        "  else:\n",
        "    print(\"Target not found in list\")\n",
        "\n",
        "numbers = [1, 2, 3, 4, 5, 6, 7, 8, 9, 10]\n",
        "\n",
        "result = linear_search(numbers, 12)\n",
        "verify(result)\n",
        "\n",
        "result = linear_search(numbers, 6)\n",
        "verify(result)"
      ]
    },
    {
      "cell_type": "markdown",
      "source": [
        "# Binary Search"
      ],
      "metadata": {
        "id": "EwkNlD8Azgg9"
      }
    },
    {
      "cell_type": "code",
      "source": [
        "def binary_search(list, target):\n",
        "  first = 0\n",
        "  last = len(list) - 1\n",
        "\n",
        "  while first <= last:\n",
        "    midpoint = (first + last)//2\n",
        "\n",
        "    if list[midpoint] == target:\n",
        "      return midpoint\n",
        "    elif list[midpoint] < target:\n",
        "      first = midpoint + 1\n",
        "    else:\n",
        "      last = midpoint\n",
        "  return None\n",
        "\n",
        "def verify(index):\n",
        "  if index is not None:\n",
        "    print(\"Target found at index: \", index)\n",
        "  else:\n",
        "    print(\"Target not found in list\")\n",
        "# works only if values are sorted\n",
        "numbers = [1, 2, 3, 4, 5, 6, 7, 8, 9, 10]\n",
        "\n",
        "result = binary_search(numbers, 12)\n",
        "verify(result)\n",
        "\n",
        "result = binary_search(numbers, 6)\n",
        "verify(result)"
      ],
      "metadata": {
        "colab": {
          "base_uri": "https://localhost:8080/"
        },
        "id": "qo5qcB0fzj0l",
        "outputId": "d253f955-7074-49de-aee2-a687d3d45994"
      },
      "execution_count": null,
      "outputs": [
        {
          "output_type": "stream",
          "name": "stdout",
          "text": [
            "Target not found in list\n",
            "Target found at index:  5\n"
          ]
        }
      ]
    },
    {
      "cell_type": "markdown",
      "source": [
        "# Recursive Binary Search"
      ],
      "metadata": {
        "id": "sqvHArEA2C7H"
      }
    },
    {
      "cell_type": "code",
      "source": [
        "def recursive_binary_search(list, target):\n",
        "  if len(list) == 0:\n",
        "    return False\n",
        "  else:\n",
        "    midpoint = (len(list))//2\n",
        "\n",
        "  if list[midpoint] == target:\n",
        "    return True\n",
        "  else:\n",
        "    if list[midpoint] < target:\n",
        "      return recursive_binary_search(list[midpoint+1:], target)\n",
        "    else:\n",
        "      return recursive_binary_search(list[:midpoint], target)\n",
        "\n",
        "def verify(result):\n",
        "  print(\"Target found: \", result)\n",
        "\n",
        "numbers = [1, 2, 3, 4, 5, 6, 7, 8]\n",
        "result = recursive_binary_search(numbers, 12)\n",
        "verify(result)\n",
        "\n",
        "result = recursive_binary_search(numbers, 6)\n",
        "verify(result)"
      ],
      "metadata": {
        "colab": {
          "base_uri": "https://localhost:8080/"
        },
        "id": "s9TU6n812Gvh",
        "outputId": "97086ed6-320d-4a3c-8dae-8d5ae5b8aad3"
      },
      "execution_count": null,
      "outputs": [
        {
          "output_type": "stream",
          "name": "stdout",
          "text": [
            "Target found:  False\n",
            "Target found:  True\n"
          ]
        }
      ]
    },
    {
      "cell_type": "markdown",
      "source": [
        "# Arrays"
      ],
      "metadata": {
        "id": "-gZ4NeAyCM9M"
      }
    },
    {
      "cell_type": "code",
      "source": [
        "new_list = [1, 2, 3]\n",
        "result = new_list[0]\n",
        "result"
      ],
      "metadata": {
        "colab": {
          "base_uri": "https://localhost:8080/"
        },
        "id": "ZO7cTx8RCMhU",
        "outputId": "26fdb32f-df68-4579-a0a5-92f76407cb5a"
      },
      "execution_count": null,
      "outputs": [
        {
          "output_type": "execute_result",
          "data": {
            "text/plain": [
              "1"
            ]
          },
          "metadata": {},
          "execution_count": 4
        }
      ]
    },
    {
      "cell_type": "code",
      "source": [
        "# search inside array\n",
        "if 1 in new_list: print(True)\n",
        "\n",
        "# or\n",
        "\n",
        "for n in new_list:\n",
        "  if n == 1:\n",
        "    print(True)\n",
        "\n",
        "    break"
      ],
      "metadata": {
        "colab": {
          "base_uri": "https://localhost:8080/"
        },
        "id": "YeF-XuaSFhKg",
        "outputId": "cbad71b9-4792-4e56-ecf3-865207f73170"
      },
      "execution_count": null,
      "outputs": [
        {
          "output_type": "stream",
          "name": "stdout",
          "text": [
            "True\n",
            "True\n"
          ]
        }
      ]
    },
    {
      "cell_type": "code",
      "source": [
        "# inserting value(s) - appending is constant time and just adds value at the back of the array(list) whereas insert adds to the first[0] index and shifts everything to the right\n",
        "# .append is Ammortized Constant Space Complexity\n",
        "numbers = []\n",
        "numbers.append(2)\n",
        "numbers.append(200)\n",
        "# adding list space (list resize ) - in python goes like: 0, 4, 8, 16, 25, 35, 46..., so it doenst have to resize each time when you add an element"
      ],
      "metadata": {
        "id": "cxLmdG0iGBLY"
      },
      "execution_count": null,
      "outputs": []
    },
    {
      "cell_type": "code",
      "source": [
        "# inserting values Big O(k)\n",
        "numbers = []\n",
        "numbers.extend([4, 5, 6])\n",
        "numbers"
      ],
      "metadata": {
        "colab": {
          "base_uri": "https://localhost:8080/"
        },
        "id": "B5XJx3h-U6i9",
        "outputId": "377d6775-5533-4dce-d079-4c97f285dbf2"
      },
      "execution_count": null,
      "outputs": [
        {
          "output_type": "execute_result",
          "data": {
            "text/plain": [
              "[4, 5, 6]"
            ]
          },
          "metadata": {},
          "execution_count": 7
        }
      ]
    },
    {
      "cell_type": "markdown",
      "source": [
        "# Simply Linked-List"
      ],
      "metadata": {
        "id": "BfMVOq_BV9mR"
      }
    },
    {
      "cell_type": "code",
      "source": [
        "class Node:\n",
        "  # An object for storing a single node of a linked list.\n",
        "  # Models two attributes - data and the link to the next node in the list\n",
        "  data = None\n",
        "  next_node = None\n",
        "\n",
        "  def __init__(self, data):\n",
        "    self.data = data\n",
        "\n",
        "  def __repr__(self):\n",
        "    return \"<Node data: %s>\" % self.data\n",
        "\n",
        "\n",
        "class LinkedList:\n",
        "  # Singly linked list\n",
        "\n",
        "  def __init__(self):\n",
        "    self.head = None\n",
        "\n",
        "  def is_empty(self):\n",
        "    return self.head == None\n",
        "\n",
        "  def size(self):\n",
        "    # Returns the number of nodes in the list, takes O(n) time\n",
        "    current = self.head\n",
        "    count = 0\n",
        "\n",
        "    while current:\n",
        "      count += 1\n",
        "      current = current.next_node\n",
        "\n",
        "    return count\n",
        "\n",
        "  def add(self, data):\n",
        "    # adds a new node containing data at the head of the list, takes O(1) time\n",
        "    new_node = Node(data)\n",
        "    new_node.next_node = self.head\n",
        "    self.head = new_node\n",
        "\n",
        "  def search(self, key):\n",
        "    # search for the first node containing data that matches the key\n",
        "    # returns the node or None if not found\n",
        "    # Takes O(n) time\n",
        "    current = self.head\n",
        "\n",
        "    while current:\n",
        "      if current.data == key:\n",
        "        return current\n",
        "      else:\n",
        "        current = current.next_node\n",
        "\n",
        "    return None\n",
        "\n",
        "\n",
        "  def insert(self, data, index):\n",
        "    # inserts a new node containing data at index position\n",
        "    # insertion takes O(1) time but finding the node at the insertion point takes O(n) time\n",
        "    # takes overall O(n) time\n",
        "    if index == 0:\n",
        "      self.add(data)\n",
        "\n",
        "    if index > 0:\n",
        "      self.add(data)\n",
        "\n",
        "      position = index\n",
        "      current = self.head\n",
        "\n",
        "      while position > 1:\n",
        "        current = Node.next_node\n",
        "        position -= 1\n",
        "\n",
        "      prev_node = current\n",
        "      next_node = current.next_node\n",
        "\n",
        "      prev_node.next_node = new\n",
        "      new.next_node = next_node\n",
        "\n",
        "\n",
        "  def remove(self, key):\n",
        "    # removes node containing data that matches the key\n",
        "    # returns the node or None if key doesnt exist\n",
        "    # Takes O(n) time\n",
        "\n",
        "    current = self.head\n",
        "    previous = None\n",
        "    found = False\n",
        "\n",
        "    while current and not found:\n",
        "      if current.data == key and current is self.head:\n",
        "        found = True\n",
        "        self.head = current.next_node\n",
        "      elif current.data == key:\n",
        "        found = True\n",
        "        previous.next_node = current.next_node\n",
        "      else:\n",
        "        previous = currentcurrent = current.next_node\n",
        "\n",
        "    return current\n",
        "\n",
        "\n",
        "  def __repr__(self):\n",
        "\n",
        "    # Return a string representation of the list, takes O(n) time\n",
        "\n",
        "    nodes = []\n",
        "    current = self.head\n",
        "\n",
        "    while current:\n",
        "      if current is self.head:\n",
        "        nodes.append(\"[Head: %s]\" % current.data)\n",
        "      elif current.next_node is None:\n",
        "        nodes.append(\"[Tail: %s]\" % current.data)\n",
        "      else:\n",
        "        nodes.append(\"[%s]\" % current.data)\n",
        "\n",
        "      current = current.next_node\n",
        "    return '->'.join(nodes)\n",
        "\n",
        "\n",
        "\n"
      ],
      "metadata": {
        "id": "b1uUM0OuWCtj"
      },
      "execution_count": null,
      "outputs": []
    },
    {
      "cell_type": "code",
      "source": [
        "l = LinkedList()\n",
        "l.add(1)\n",
        "l.add(2)\n",
        "l.add(3)\n",
        "l"
      ],
      "metadata": {
        "colab": {
          "base_uri": "https://localhost:8080/"
        },
        "id": "ByEbKWWjWzdO",
        "outputId": "e68620c0-9db9-472a-e37f-5ac2c0d02369"
      },
      "execution_count": null,
      "outputs": [
        {
          "output_type": "execute_result",
          "data": {
            "text/plain": [
              "[Head: 3]->[2]->[Tail: 1]"
            ]
          },
          "metadata": {},
          "execution_count": 9
        }
      ]
    },
    {
      "cell_type": "code",
      "source": [
        "# Search through the list\n",
        "l = LinkedList()\n",
        "l.add(10)\n",
        "l.add(2)\n",
        "l.add(45)\n",
        "l.add(15)\n",
        "n = l.search(45)\n",
        "n\n",
        "l\n"
      ],
      "metadata": {
        "colab": {
          "base_uri": "https://localhost:8080/"
        },
        "id": "nEefxALGcoA2",
        "outputId": "70c22494-1ce6-4db0-ead8-dccbe79799ed"
      },
      "execution_count": null,
      "outputs": [
        {
          "output_type": "execute_result",
          "data": {
            "text/plain": [
              "[Head: 15]->[45]->[2]->[Tail: 10]"
            ]
          },
          "metadata": {},
          "execution_count": 10
        }
      ]
    },
    {
      "cell_type": "markdown",
      "source": [
        "# Merge sort"
      ],
      "metadata": {
        "id": "xgOkQbL7c8hT"
      }
    },
    {
      "cell_type": "code",
      "source": [
        "def merge_sort(list):\n",
        "  # sorts a list in ascending order\n",
        "  # returns a new sorted list\n",
        "  # takes O(n log n) time\n",
        "\n",
        "  # Divide: find the midpoint of the list and divide into sublists\n",
        "  # Conquer: recursively sort the sublists created in previous step\n",
        "  # Combine: merge the sorted sublsists created in previous step\n",
        "\n",
        "  if len(list) <= 1:\n",
        "    return list\n",
        "\n",
        "  left_half, right_half = split(list)\n",
        "  left = merge_sort(left_half)\n",
        "  right = merge_sort(right_half)\n",
        "\n",
        "  return merge(left, right)\n",
        "\n",
        "def split(list):\n",
        "  # divide the unsorted list at midpoint into sublists\n",
        "  # returns two sublists - left and right\n",
        "# takes overall O(log n) time\n",
        "  # floor division\n",
        "  mid = len(list)//2\n",
        "  left = list[:mid]\n",
        "  right = list[mid:]\n",
        "\n",
        "  return left, right\n",
        "\n",
        "def merge(left, right):\n",
        "  # merges two lists (arrays), sorting them in the process\n",
        "  # returns a new merged list\n",
        "  # runs in overall O(n) time\n",
        "\n",
        "  l = []\n",
        "  i = 0\n",
        "  j = 0\n",
        "\n",
        "  # i for the indexes on left and j for the indexes on right\n",
        "  while i < len(left) and j < len(right):\n",
        "    if left[i] < right[j]:\n",
        "      l.append(left[i])\n",
        "      i += 1\n",
        "    else:\n",
        "      l.append(right[j])\n",
        "      j += 1\n",
        "\n",
        "  while i < len(left):\n",
        "    l.append(left[i])\n",
        "    i += 1\n",
        "\n",
        "  while j < len(right):\n",
        "    l.append(right[j])\n",
        "    j += 1\n",
        "\n",
        "  return l\n",
        "\n",
        "def verify_sorted(list):\n",
        "   n = len(list)\n",
        "\n",
        "   if n == 0 or n == 1:\n",
        "    return True\n",
        "\n",
        "   return list[0] < list[1] and verify_sorted(list[1:])\n",
        "\n",
        "alist = [54, 26, 93, 17, 77, 31, 44, 55, 20]\n",
        "l = merge_sort(alist)\n",
        "print(verify_sorted(alist))\n",
        "print(verify_sorted(l))"
      ],
      "metadata": {
        "colab": {
          "base_uri": "https://localhost:8080/"
        },
        "id": "7PiK0vXLdAxg",
        "outputId": "0f0bb0b6-145e-4a21-b777-423586f8290b"
      },
      "execution_count": null,
      "outputs": [
        {
          "output_type": "stream",
          "name": "stdout",
          "text": [
            "False\n",
            "True\n"
          ]
        }
      ]
    },
    {
      "cell_type": "markdown",
      "source": [
        "# Merge sort on linked list"
      ],
      "metadata": {
        "id": "O6atNntZ0U7x"
      }
    },
    {
      "cell_type": "code",
      "source": [
        "def merge_sort(linked_list):\n",
        "  # sorts a linked list in ascending order\n",
        "  # recursively divide the linked list into sublists containing a single node\n",
        "  # repeatedly merge the sublists to produce sorted sublists until one remains\n",
        "  # returns a sorted linked list\n",
        "\n",
        "  if linked_list.size() == 1:\n",
        "    return linked_list\n",
        "  elif linked_list.head is None:\n",
        "    return linked_list\n"
      ],
      "metadata": {
        "colab": {
          "base_uri": "https://localhost:8080/"
        },
        "id": "dabaukk-0ZFi",
        "outputId": "f15ec2e3-2568-4bc2-b170-58b4f8563299"
      },
      "execution_count": null,
      "outputs": [
        {
          "output_type": "stream",
          "name": "stdout",
          "text": [
            "[Head: 1]\n"
          ]
        }
      ]
    }
  ]
}